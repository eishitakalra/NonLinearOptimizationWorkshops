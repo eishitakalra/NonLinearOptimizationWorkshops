{
 "cells": [
  {
   "cell_type": "markdown",
   "metadata": {},
   "source": [
    "#### **Nonlinear Optimisation Workshop Lab Sheet 2**\n",
    "###### **Eishita Kalra 2746904**"
   ]
  },
  {
   "cell_type": "code",
   "execution_count": 1,
   "metadata": {},
   "outputs": [],
   "source": [
    "from pi_approx import pi_iter1_arctan as pi1\n",
    "from pi_approx import pi_iter2_archim as pi2\n",
    "from pi_approx import pi_iter3_borwein as pi3\n",
    "\n",
    "import numpy as np\n"
   ]
  },
  {
   "cell_type": "code",
   "execution_count": 2,
   "metadata": {},
   "outputs": [
    {
     "data": {
      "text/plain": [
       "array([-0.55326412, -0.684473  , -0.75784144, -0.80408452, -0.83571393,\n",
       "       -0.85864606, -0.87600766, -0.88959635, -0.9005153 , -0.90947765])"
      ]
     },
     "execution_count": 2,
     "metadata": {},
     "output_type": "execute_result"
    }
   ],
   "source": [
    "seq1 = np.array(pi1(11))\n",
    "(seq1[1:11]-np.pi)/(seq1[0:10]-np.pi)\n",
    "#no evidence its bounded\n",
    "#sublinear"
   ]
  },
  {
   "cell_type": "code",
   "execution_count": 3,
   "metadata": {},
   "outputs": [
    {
     "data": {
      "text/plain": [
       "array([0.22882358, 0.24482198, 0.24871256, 0.24967858, 0.24991967,\n",
       "       0.24997992, 0.24999498, 0.24999875, 0.24999969, 0.24999992])"
      ]
     },
     "execution_count": 3,
     "metadata": {},
     "output_type": "execute_result"
    }
   ],
   "source": [
    "seq2 = np.array(pi2(11))\n",
    "(seq2[1:11]-np.pi)/(seq2[0:10]-np.pi)\n",
    "#linear convergence seen very clearly"
   ]
  },
  {
   "cell_type": "code",
   "execution_count": 4,
   "metadata": {},
   "outputs": [
    {
     "name": "stderr",
     "output_type": "stream",
     "text": [
      "/tmp/ipykernel_11407/1854849518.py:2: RuntimeWarning: invalid value encountered in divide\n",
      "  (seq3[1:11]-np.pi)/(seq3[0:10]-np.pi)\n"
     ]
    },
    {
     "data": {
      "text/plain": [
       "array([3.71981869e-03, 7.27369002e-06, 0.00000000e+00,            nan,\n",
       "                  nan,            nan,            nan,            nan,\n",
       "                  nan,            nan])"
      ]
     },
     "execution_count": 4,
     "metadata": {},
     "output_type": "execute_result"
    }
   ],
   "source": [
    "seq3 = np.array(pi3(11))\n",
    "(seq3[1:11]-np.pi)/(seq3[0:10]-np.pi)\n",
    "#dividing by 0\n",
    "#by 4 iterate got to the exact value of pi"
   ]
  },
  {
   "cell_type": "markdown",
   "metadata": {},
   "source": [
    "2. (d) Try Armijo and Wolfe line searches. Count function evaluations.\n",
    "\n",
    "Go back to the steepest descent direction (direction = ’SD’ and change the line search to the back- trackingArmijolinesearch(linesearch = ’Armijo’–bothchangesinGenericLineSearchMethod.py). Use a parameter of c1 = 0.1 (this should be the default).\n",
    "\n",
    " Again, run LineSearchPlot.py an observe the pattern. \n",
    " \n",
    " Also inspect the number of iterations and function evaluations necessary to find the local minimum. \n",
    "27 iterations\n",
    "LS 3\n",
    "GLSM 99\n",
    " \n",
    " You should find that the number of iterations does not change much while the number of function evaluations reduces drastically. \n",
    " \n",
    " Play around with different values for the c1 parameter (c1 = 0.9 gives an interesting plot. Please try to explain what happens here!). \n",
    "60 iterations\n",
    "LS 3\n",
    "GLSM 288\n",
    "\n",
    "goes off track less\n",
    "goes straight to point\n",
    "took too many iterations smooth curve\n"
   ]
  },
  {
   "cell_type": "code",
   "execution_count": null,
   "metadata": {},
   "outputs": [],
   "source": [
    "\n"
   ]
  }
 ],
 "metadata": {
  "kernelspec": {
   "display_name": "Python 3",
   "language": "python",
   "name": "python3"
  },
  "language_info": {
   "codemirror_mode": {
    "name": "ipython",
    "version": 3
   },
   "file_extension": ".py",
   "mimetype": "text/x-python",
   "name": "python",
   "nbconvert_exporter": "python",
   "pygments_lexer": "ipython3",
   "version": "3.12.1"
  }
 },
 "nbformat": 4,
 "nbformat_minor": 2
}
