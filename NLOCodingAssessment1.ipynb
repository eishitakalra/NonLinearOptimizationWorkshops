{
 "cells": [
  {
   "cell_type": "markdown",
   "metadata": {},
   "source": []
  },
  {
   "cell_type": "markdown",
   "metadata": {},
   "source": [
    "#### **Nonlinear Optimisation Workshop Lab Sheet 18**\n",
    "###### **Eishita Kalra 2746904**\n",
    "\n",
    "$1.$ (i) Checking First and Second Order Optimality Conditions:\n",
    "\n",
    "How many can you see?\n",
    "....\n",
    "\n",
    "To show that $x_1$, $x_2$, $x_3$ are stationary points, we check if the gradient of f at $x_I$ is 0 and the Hessian of f at $x_i$ is positive definite or negative definite.\n",
    "\n"
   ]
  },
  {
   "cell_type": "code",
   "execution_count": 24,
   "metadata": {},
   "outputs": [],
   "source": [
    "import numpy as np\n",
    "import matplotlib.pyplot as plt\n",
    "import matplotlib as mpl\n",
    "from ex13func import ex13 as func"
   ]
  },
  {
   "cell_type": "code",
   "execution_count": 45,
   "metadata": {},
   "outputs": [
    {
     "name": "stdout",
     "output_type": "stream",
     "text": [
      "The gradients of x_1, x_2 and x_3 are  [0. 0.] [-2.11532076e-08  4.63739571e-08] [-2.96559715e-08  3.35150316e-08]  respectively.\n",
      "The eigenvalues of x_1 are  8.06225774829855  and  -8.06225774829855\n",
      "The eigenvalues of x_2 are  7.682251424438178  and  16.493195028443104\n",
      "The eigenvalues of x_3 are  -8.014907155904762  and  -5.953724193512003\n"
     ]
    }
   ],
   "source": [
    "G_1 = func(1, np.array([0, 0]))\n",
    "\n",
    "G_2 = func(1, np.array([0.08984201, -0.7126564]))\n",
    "\n",
    "G_3 = func(1, np.array([1.23022988, 0.16233458]))\n",
    "\n",
    "print(f'The gradients of x_1, x_2 and x_3 are ', G_1, G_2, G_3, ' respectively.')\n",
    "\n",
    "H_1 = func(2, [0, 0])\n",
    "eig_1 = np.linalg.eigvals(H_1)\n",
    "\n",
    "H_2 = func(2, [0.08984201, -0.7126564])\n",
    "eig_2 = np.linalg.eigvals(H_2)\n",
    "\n",
    "H_3 = func(2, [1.23022988, 0.16233458])\n",
    "eig_3 = np.linalg.eigvals(H_3)\n",
    "\n",
    "print(f'The eigenvalues of x_1 are ', eig_1[0], ' and ', eig_1[1])\n",
    "print(f'The eigenvalues of x_2 are ', eig_2[0], ' and ', eig_2[1])\n",
    "print(f'The eigenvalues of x_3 are ', eig_3[0], ' and ', eig_3[1])"
   ]
  },
  {
   "cell_type": "code",
   "execution_count": 49,
   "metadata": {},
   "outputs": [
    {
     "name": "stdout",
     "output_type": "stream",
     "text": [
      "0.75\n"
     ]
    }
   ],
   "source": [
    "x0 = 0\n",
    "y0 = 0.5\n",
    "f = func(0, [x0, y0])\n",
    "g = func(1, [x0, y0])\n",
    "H = func(2, [x0, y0])\n",
    "\n",
    "\n",
    "XS = 0-x0\n",
    "YS = 0-y0\n",
    "T = f + g[0]*XS + g[1]*YS + 0.5*H[0][0]*XS*XS + H[0][1]*XS*YS + 0.5*H[1][1]*YS*YS\n",
    "\n",
    "print(T)"
   ]
  },
  {
   "cell_type": "markdown",
   "metadata": {},
   "source": [
    "Therefore, si"
   ]
  }
 ],
 "metadata": {
  "kernelspec": {
   "display_name": "Python 3",
   "language": "python",
   "name": "python3"
  },
  "language_info": {
   "codemirror_mode": {
    "name": "ipython",
    "version": 3
   },
   "file_extension": ".py",
   "mimetype": "text/x-python",
   "name": "python",
   "nbconvert_exporter": "python",
   "pygments_lexer": "ipython3",
   "version": "3.12.1"
  }
 },
 "nbformat": 4,
 "nbformat_minor": 2
}
